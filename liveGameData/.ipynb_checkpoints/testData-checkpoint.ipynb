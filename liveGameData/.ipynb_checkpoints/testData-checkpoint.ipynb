{
 "cells": [
  {
   "cell_type": "code",
   "execution_count": 30,
   "metadata": {},
   "outputs": [],
   "source": [
    "def filter_elos(sample):\n",
    "    #sample = sample.drop(['Player_White','Player_Black','Tournament','City'],axis = 1) # this is temporary because \n",
    "\n",
    "    # count number of row with unr in elo \n",
    "    initial = len(sample)\n",
    "    sample = sample[sample['ELO_Black'].apply(lambda x: str(x).isdigit())]\n",
    "    sample = sample[sample['ELO_White'].apply(lambda x: str(x).isdigit())]\n",
    "    resulting = len(sample)\n",
    "    \n",
    "    print(initial-resulting , ' rows dropped')\n",
    "    return sample\n",
    "\n",
    "def filter_tournament(sample):\n",
    "    initial = len(sample)\n",
    "    Under = sample['Tournament'].apply(lambda x: ('U' in str(x)))\n",
    "    Women = sample['Tournament'].apply(lambda x: ('women' in str(x).lower()))\n",
    "    Men = sample['Tournament'].apply(lambda x: ('men' in str(x).lower()))\n",
    "    \n",
    "    sample.loc[:,'Tournament'] = 0 # General\n",
    "    sample.loc[Under,'Tournament'] = 1\n",
    "    sample.loc[Men,'Tournament'] = 2\n",
    "    sample.loc[Women,'Tournament'] = 3\n",
    "                                      \n",
    "    resulting = len(sample)\n",
    "    print(initial-resulting , ' rows dropped')\n",
    "    return sample\n",
    "\n",
    "def name_hash(name):\n",
    "    name = name.lower()\n",
    "    val = 0\n",
    "    mod = 1000000007\n",
    "    \n",
    "    for i in name:\n",
    "        val = val * 30 + ord(i) - ord('a')\n",
    "        val = val % mod\n",
    "        \n",
    "    return val\n",
    "\n",
    "\n",
    "def filter_player_names(sample):\n",
    "    \n",
    "    for i, row in sample.iterrows():\n",
    "        sample.set_value(i,'Player_White',name_hash(sample.loc[i]['Player_White']))\n",
    "        sample.set_value(i,'Player_Black',name_hash(sample.loc[i]['Player_Black']))\n",
    "\n",
    "    return sample"
   ]
  },
  {
   "cell_type": "code",
   "execution_count": 43,
   "metadata": {},
   "outputs": [
    {
     "name": "stdout",
     "output_type": "stream",
     "text": [
      "0  rows dropped\n",
      "0  rows dropped\n",
      "----------------Modified------------------\n",
      "   Tournament     City  Year Player_White Player_Black  ELO_White  ELO_Black  \\\n",
      "0           3     Bled  2002    690417527    570336576       2247       2241   \n",
      "1           0  Yerevan  2012    496421636    199480117       2583       2640   \n",
      "2           1   Prague  2012    951471481    341321752       1777       1766   \n",
      "3           0  Germany  2007    328103520    354637944       2235       2227   \n",
      "4           0   Zenica  1989    918457350    897301923       2490       2510   \n",
      "5           0  Algarve  1995    674084283    365772728       2245       2245   \n",
      "6           1  Oberhof  2011    942501432    600011538       1749       1743   \n",
      "7           0  Wolvega  2012    812153516    216162803       2593       2641   \n",
      "\n",
      "   Turn  Move#  QueenWhite   ...    RookWhite  RookBlack  BishopWhite  \\\n",
      "0    -1     27           1   ...            2          2            1   \n",
      "1     1     21           1   ...            2          1            1   \n",
      "2     1     39           0   ...            0          0            0   \n",
      "3    -1     16           1   ...            2          2            2   \n",
      "4     1     17           0   ...            2          2            1   \n",
      "5     1     22           1   ...            2          2            0   \n",
      "6    -1     28           1   ...            1          1            1   \n",
      "7     1     35           0   ...            2          1            1   \n",
      "\n",
      "   BishopBlack  KnightWhite  KnightBlack  Best_Eval  Played_Eval  Eval_Diff  \\\n",
      "0            1            0            0        -28          -28          0   \n",
      "1            2            0            0         43            0         43   \n",
      "2            0            1            1       -237         -237          0   \n",
      "3            1            1            2         58           58          0   \n",
      "4            2            1            0         35           22         13   \n",
      "5            1            2            1         79           79          0   \n",
      "6            1            0            0        -69         -105         36   \n",
      "7            1            0            1         19           20          1   \n",
      "\n",
      "   Result  \n",
      "0       1  \n",
      "1       0  \n",
      "2      -1  \n",
      "3      -1  \n",
      "4       0  \n",
      "5       1  \n",
      "6       1  \n",
      "7       0  \n",
      "\n",
      "[8 rows x 21 columns]\n",
      "   Tournament  Year Player_White Player_Black  ELO_White  ELO_Black  Turn  \\\n",
      "0           3  2002    690417527    570336576       2247       2241    -1   \n",
      "1           0  2012    496421636    199480117       2583       2640     1   \n",
      "2           1  2012    951471481    341321752       1777       1766     1   \n",
      "3           0  2007    328103520    354637944       2235       2227    -1   \n",
      "4           0  1989    918457350    897301923       2490       2510     1   \n",
      "5           0  1995    674084283    365772728       2245       2245     1   \n",
      "6           1  2011    942501432    600011538       1749       1743    -1   \n",
      "7           0  2012    812153516    216162803       2593       2641     1   \n",
      "\n",
      "   Move#  QueenWhite  QueenBlack  RookWhite  RookBlack  BishopWhite  \\\n",
      "0     27           1           1          2          2            1   \n",
      "1     21           1           1          2          1            1   \n",
      "2     39           0           0          0          0            0   \n",
      "3     16           1           1          2          2            2   \n",
      "4     17           0           0          2          2            1   \n",
      "5     22           1           1          2          2            0   \n",
      "6     28           1           1          1          1            1   \n",
      "7     35           0           0          2          1            1   \n",
      "\n",
      "   BishopBlack  KnightWhite  KnightBlack  Best_Eval  Played_Eval  Eval_Diff  \n",
      "0            1            0            0        -28          -28          0  \n",
      "1            2            0            0         43            0         43  \n",
      "2            0            1            1       -237         -237          0  \n",
      "3            1            1            2         58           58          0  \n",
      "4            2            1            0         35           22         13  \n",
      "5            1            2            1         79           79          0  \n",
      "6            1            0            0        -69         -105         36  \n",
      "7            1            0            1         19           20          1  \n"
     ]
    },
    {
     "name": "stderr",
     "output_type": "stream",
     "text": [
      "/home/edexworld/.local/lib/python3.5/site-packages/ipykernel_launcher.py:44: FutureWarning: set_value is deprecated and will be removed in a future release. Please use .at[] or .iat[] accessors instead\n",
      "/home/edexworld/.local/lib/python3.5/site-packages/ipykernel_launcher.py:45: FutureWarning: set_value is deprecated and will be removed in a future release. Please use .at[] or .iat[] accessors instead\n"
     ]
    }
   ],
   "source": [
    "import pandas as pd\n",
    "\n",
    "def readTestInput():\n",
    "    df = pd.read_csv(\"sujit.csv\")\n",
    "    #print(df)\n",
    "    df = filter_player_names(df)\n",
    "    df = filter_tournament(df)\n",
    "    df = filter_elos(df)\n",
    "    print(\"----------------Modified------------------\")\n",
    "    print(df)\n",
    "    modified_df = pd.concat([df.loc[:,'Tournament'], df.loc[:, 'Year':'Eval_Diff']], axis=1)\n",
    "    print(modified_df)\n"
   ]
  },
  {
   "cell_type": "code",
   "execution_count": 44,
   "metadata": {},
   "outputs": [],
   "source": [
    "import pickle\n",
    "rfc = pickle.load(open('rfcModelMini.sav', 'rb'))"
   ]
  },
  {
   "cell_type": "code",
   "execution_count": 46,
   "metadata": {},
   "outputs": [
    {
     "name": "stdout",
     "output_type": "stream",
     "text": [
      "[ 1  0 -1 -1  0  1  1  0]\n"
     ]
    }
   ],
   "source": [
    "predicted = rfc.predict(modified_df)\n",
    "print(predicted)"
   ]
  },
  {
   "cell_type": "code",
   "execution_count": 47,
   "metadata": {},
   "outputs": [],
   "source": [
    "import pickle\n",
    "reg = pickle.load(open('rfrModelMini.sav', 'rb'))"
   ]
  },
  {
   "cell_type": "code",
   "execution_count": 49,
   "metadata": {},
   "outputs": [
    {
     "name": "stdout",
     "output_type": "stream",
     "text": [
      "[ 0.23804056  0.01084988 -0.81685703 -0.37747     0.05939496  0.52767534\n",
      "  0.54310126  0.06686336]\n"
     ]
    }
   ],
   "source": [
    "predicted = reg.predict(modified_df)\n",
    "print(predicted)"
   ]
  },
  {
   "cell_type": "code",
   "execution_count": 50,
   "metadata": {},
   "outputs": [
    {
     "ename": "SyntaxError",
     "evalue": "invalid syntax (<ipython-input-50-6764e2908cd9>, line 1)",
     "output_type": "error",
     "traceback": [
      "\u001b[0;36m  File \u001b[0;32m\"<ipython-input-50-6764e2908cd9>\"\u001b[0;36m, line \u001b[0;32m1\u001b[0m\n\u001b[0;31m    flask import Flask, jsonify, request\u001b[0m\n\u001b[0m               ^\u001b[0m\n\u001b[0;31mSyntaxError\u001b[0m\u001b[0;31m:\u001b[0m invalid syntax\n"
     ]
    }
   ],
   "source": [
    "flask import Flask, jsonify, request\n",
    "app = Flask(__name__)\n",
    "\n",
    "languages = [{'name':'JavaScript'}, {'name':'Python'}, {'name':'Ruby'}]\n",
    "\n",
    "predictions = {}\n",
    "\n",
    "@app.route('/', methods=['GET'])\n",
    "def hello_world():\n",
    "        return jsonify({'message':'It works!'})\n",
    "\n",
    "@app.route('/lang', methods=['GET'])\n",
    "def returnAll():\n",
    "        return jsonify({'languages':languages})\n",
    "\n",
    "@app.route('/test', methods=['GET'])\n",
    "def test():\n",
    "        param = request.args.get('param')\n",
    "        result = predicted = reg.predict(modified_df)\n",
    "        for i in range(len(result)):\n",
    "            predictions[i] = result[i]\n",
    "        print(predictions)\n",
    "        return jsonify({'predictions':predictions})\n",
    "\n",
    "if __name__ == '__main__':\n",
    "        app.run(debug=True, port=8080)\n"
   ]
  },
  {
   "cell_type": "code",
   "execution_count": null,
   "metadata": {},
   "outputs": [],
   "source": []
  }
 ],
 "metadata": {
  "kernelspec": {
   "display_name": "Python 3",
   "language": "python",
   "name": "python3"
  },
  "language_info": {
   "codemirror_mode": {
    "name": "ipython",
    "version": 3
   },
   "file_extension": ".py",
   "mimetype": "text/x-python",
   "name": "python",
   "nbconvert_exporter": "python",
   "pygments_lexer": "ipython3",
   "version": "3.5.2"
  }
 },
 "nbformat": 4,
 "nbformat_minor": 2
}
